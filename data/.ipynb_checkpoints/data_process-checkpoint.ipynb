{
 "cells": [
  {
   "cell_type": "code",
   "execution_count": null,
   "metadata": {},
   "outputs": [],
   "source": [
    "import pandas as pd\n",
    "import geopandas as gpd\n",
    "\n",
    "# Define file paths\n",
    "csv_file_path = 'Africansoil/AtonixAgro-Africa-soil-analysis.csv'\n",
    "shapefile_path = 'Africansoil/Africa_soil_data.shp'\n",
    "usda_csv_file_path = 'path/to/usda_soil_data.csv'  # Update with the correct path\n",
    "fao_shapefile_path = 'path/to/fao_soil_data.shp'  # Update with the correct path\n",
    "\n",
    "# Load the CSV file\n",
    "soil_data = pd.read_csv(csv_file_path)\n",
    "\n",
    "# Load USDA Soil Data (assuming CSV format)\n",
    "usda_soil_data = pd.read_csv(usda_csv_file_path)\n",
    "\n",
    "# Load FAO Soil Data (assuming shapefile format)\n",
    "fao_soil_data = gpd.read_file(fao_shapefile_path)\n",
    "\n",
    "# Example: Filter USDA soil data for a specific region (assuming there is a 'region' column)\n",
    "# Update 'specific_region' with the actual region you want to filter by\n",
    "filtered_usda_data = usda_soil_data[usda_soil_data['region'] == 'specific_region']\n",
    "\n",
    "# Example: Plot FAO soil data using GeoPandas\n",
    "fao_soil_data.plot()"
   ]
  }
 ],
 "metadata": {
  "language_info": {
   "name": "python"
  }
 },
 "nbformat": 4,
 "nbformat_minor": 2
}
